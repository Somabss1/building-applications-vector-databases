{
  "nbformat": 4,
  "nbformat_minor": 0,
  "metadata": {
    "colab": {
      "provenance": []
    },
    "kernelspec": {
      "name": "python3",
      "display_name": "Python 3"
    },
    "language_info": {
      "name": "python"
    }
  },
  "cells": [
    {
      "cell_type": "markdown",
      "source": [
        "# Lesson 2 - Retrieval Augmented Generation (RAG)\n",
        "\n"
      ],
      "metadata": {
        "id": "rbpSXF2KtCfy"
      }
    },
    {
      "cell_type": "markdown",
      "source": [
        "### Import  the Needed Packages"
      ],
      "metadata": {
        "id": "MNb61jqGtIsD"
      }
    },
    {
      "cell_type": "code",
      "execution_count": 1,
      "metadata": {
        "id": "g9izqAEetANM"
      },
      "outputs": [],
      "source": [
        "import warnings\n",
        "warnings.filterwarnings('ignore')"
      ]
    },
    {
      "cell_type": "code",
      "source": [
        "from datasets import load_dataset\n",
        "from openai import OpenAI\n",
        "from pinecone import Pinecone, ServerlessSpec\n",
        "from tqdm.auto import tqdm\n",
        "from DLAIUtils import Utils\n",
        "\n",
        "import ast\n",
        "import os\n",
        "import pandas as pd"
      ],
      "metadata": {
        "colab": {
          "base_uri": "https://localhost:8080/",
          "height": 384
        },
        "id": "2GobeDXrtNlM",
        "outputId": "260f3c66-3995-4bb5-ec51-40982b3fdf90"
      },
      "execution_count": 2,
      "outputs": [
        {
          "output_type": "error",
          "ename": "ModuleNotFoundError",
          "evalue": "No module named 'datasets'",
          "traceback": [
            "\u001b[0;31m---------------------------------------------------------------------------\u001b[0m",
            "\u001b[0;31mModuleNotFoundError\u001b[0m                       Traceback (most recent call last)",
            "\u001b[0;32m<ipython-input-2-077f228e6108>\u001b[0m in \u001b[0;36m<cell line: 1>\u001b[0;34m()\u001b[0m\n\u001b[0;32m----> 1\u001b[0;31m \u001b[0;32mfrom\u001b[0m \u001b[0mdatasets\u001b[0m \u001b[0;32mimport\u001b[0m \u001b[0mload_dataset\u001b[0m\u001b[0;34m\u001b[0m\u001b[0;34m\u001b[0m\u001b[0m\n\u001b[0m\u001b[1;32m      2\u001b[0m \u001b[0;32mfrom\u001b[0m \u001b[0mopenai\u001b[0m \u001b[0;32mimport\u001b[0m \u001b[0mOpenAI\u001b[0m\u001b[0;34m\u001b[0m\u001b[0;34m\u001b[0m\u001b[0m\n\u001b[1;32m      3\u001b[0m \u001b[0;32mfrom\u001b[0m \u001b[0mpinecone\u001b[0m \u001b[0;32mimport\u001b[0m \u001b[0mPinecone\u001b[0m\u001b[0;34m,\u001b[0m \u001b[0mServerlessSpec\u001b[0m\u001b[0;34m\u001b[0m\u001b[0;34m\u001b[0m\u001b[0m\n\u001b[1;32m      4\u001b[0m \u001b[0;32mfrom\u001b[0m \u001b[0mtqdm\u001b[0m\u001b[0;34m.\u001b[0m\u001b[0mauto\u001b[0m \u001b[0;32mimport\u001b[0m \u001b[0mtqdm\u001b[0m\u001b[0;34m\u001b[0m\u001b[0;34m\u001b[0m\u001b[0m\n\u001b[1;32m      5\u001b[0m \u001b[0;32mfrom\u001b[0m \u001b[0mDLAIUtils\u001b[0m \u001b[0;32mimport\u001b[0m \u001b[0mUtils\u001b[0m\u001b[0;34m\u001b[0m\u001b[0;34m\u001b[0m\u001b[0m\n",
            "\u001b[0;31mModuleNotFoundError\u001b[0m: No module named 'datasets'",
            "",
            "\u001b[0;31m---------------------------------------------------------------------------\u001b[0;32m\nNOTE: If your import is failing due to a missing package, you can\nmanually install dependencies using either !pip or !apt.\n\nTo view examples of installing some common dependencies, click the\n\"Open Examples\" button below.\n\u001b[0;31m---------------------------------------------------------------------------\u001b[0m\n"
          ],
          "errorDetails": {
            "actions": [
              {
                "action": "open_url",
                "actionText": "Open Examples",
                "url": "/notebooks/snippets/importing_libraries.ipynb"
              }
            ]
          }
        }
      ]
    },
    {
      "cell_type": "code",
      "source": [
        "# get api key\n",
        "utils = Utils()\n",
        "PINECONE_API_KEY = utils.get_pinecone_api_key()"
      ],
      "metadata": {
        "id": "XCrlQKWttTAu"
      },
      "execution_count": null,
      "outputs": []
    },
    {
      "cell_type": "markdown",
      "source": [
        "### Setup Pinecone"
      ],
      "metadata": {
        "id": "bytfzm9ntXBZ"
      }
    },
    {
      "cell_type": "code",
      "source": [
        "pinecone = Pinecone(api_key=PINECONE_API_KEY)\n",
        "\n",
        "utils = Utils()\n",
        "INDEX_NAME = utils.create_dlai_index_name('dl-ai')\n",
        "if INDEX_NAME in [index.name for index in pinecone.list_indexes()]:\n",
        "  pinecone.delete_index(INDEX_NAME)\n",
        "\n",
        "pinecone.create_index(name=INDEX_NAME, dimension=1536, metric='cosine',\n",
        "  spec=ServerlessSpec(cloud='aws', region='us-west-2'))\n",
        "\n",
        "index = pinecone.Index(INDEX_NAME)"
      ],
      "metadata": {
        "id": "j2b0ySGltXoc"
      },
      "execution_count": null,
      "outputs": []
    },
    {
      "cell_type": "markdown",
      "source": [
        "### Load the Dataset\n",
        "\n",
        "**Note:** To access the dataset outside of this course, just copy the following two lines of code and run it (remember to uncomment them first before executing):\n",
        "\n",
        "#!wget -q -O lesson2-wiki.csv.zip \"https://www.dropbox.com/scl/fi/yxzmsrv2sgl249zcspeqb/lesson2-wiki.csv.zip?rlkey=paehnoxjl3s5x53d1bedt4pmc&dl=0\"\n",
        "\n",
        "#!unzip lesson2-wiki.csv.zip"
      ],
      "metadata": {
        "id": "kOUggBOhtgrH"
      }
    },
    {
      "cell_type": "markdown",
      "source": [
        "<p style=\"background-color:#fff1d7; padding:15px; \"> <b>(Note: <code>max_articles_num = 500</code>):</b> To achieve a more comprehensive context for the Language Learning Model, a larger number of articles is generally more beneficial. In this lab, we've initially set <code>max_articles_num</code> to 500 for speedier results, allowing you to observe the outcomes faster. Once you've done an initial run, consider increasing this value to 750 or 1,000. You'll likely notice that the context provided to the LLM becomes richer and better. You can experiment by gradually raising this variable for different queries to observe the improvements in the LLM's contextual understanding.</p>"
      ],
      "metadata": {
        "id": "BDNUqmkAto8B"
      }
    },
    {
      "cell_type": "code",
      "source": [
        "max_articles_num = 500\n",
        "df = pd.read_csv('./data/wiki.csv', nrows=max_articles_num)\n",
        "df.head()"
      ],
      "metadata": {
        "id": "GC0Fw5nxtk4_"
      },
      "execution_count": null,
      "outputs": []
    },
    {
      "cell_type": "markdown",
      "source": [
        "### Prepare the Embeddings and Upsert to Pinecone\n"
      ],
      "metadata": {
        "id": "y72Uu1LQt0KU"
      }
    },
    {
      "cell_type": "code",
      "source": [
        "prepped = []\n",
        "\n",
        "for i, row in tqdm(df.iterrows(), total=df.shape[0]):\n",
        "    meta = ast.literal_eval(row['metadata'])\n",
        "    prepped.append({'id':row['id'],\n",
        "                    'values':ast.literal_eval(row['values']),\n",
        "                    'metadata':meta})\n",
        "    if len(prepped) >= 250:\n",
        "        index.upsert(prepped)\n",
        "        prepped = []\n"
      ],
      "metadata": {
        "id": "Xd0-ZIb8t2Gh"
      },
      "execution_count": null,
      "outputs": []
    },
    {
      "cell_type": "code",
      "source": [
        "index.describe_index_stats()"
      ],
      "metadata": {
        "id": "8kbgLXkBt5QN"
      },
      "execution_count": null,
      "outputs": []
    },
    {
      "cell_type": "markdown",
      "source": [
        "### Connect to OpenAI"
      ],
      "metadata": {
        "id": "HelDUPLPurNf"
      }
    },
    {
      "cell_type": "code",
      "source": [
        "OPENAI_API_KEY = utils.get_openai_api_key()\n",
        "openai_client = OpenAI(api_key=OPENAI_API_KEY)\n",
        "\n",
        "def get_embeddings(articles, model=\"text-embedding-ada-002\"):\n",
        "   return openai_client.embeddings.create(input = articles, model=model)"
      ],
      "metadata": {
        "id": "LtGt_BZvup0q"
      },
      "execution_count": null,
      "outputs": []
    },
    {
      "cell_type": "markdown",
      "source": [
        "### Run Your Query\n"
      ],
      "metadata": {
        "id": "wqCnoAHDuzVR"
      }
    },
    {
      "cell_type": "code",
      "source": [
        "query = \"what is the berlin wall?\"\n",
        "\n",
        "embed = get_embeddings([query])\n",
        "res = index.query(vector=embed.data[0].embedding, top_k=3, include_metadata=True)\n",
        "text = [r['metadata']['text'] for r in res['matches']]\n",
        "print('\\n'.join(text))\n"
      ],
      "metadata": {
        "id": "CKyq3dHDu1hK"
      },
      "execution_count": null,
      "outputs": []
    },
    {
      "cell_type": "markdown",
      "source": [
        "### Build the Prompt"
      ],
      "metadata": {
        "id": "tyUqRniRu43E"
      }
    },
    {
      "cell_type": "code",
      "source": [
        "query = \"write an article titled: what is the berlin wall?\"\n",
        "embed = get_embeddings([query])\n",
        "res = index.query(vector=embed.data[0].embedding, top_k=3, include_metadata=True)\n",
        "\n",
        "contexts = [\n",
        "    x['metadata']['text'] for x in res['matches']\n",
        "]\n",
        "\n",
        "prompt_start = (\n",
        "    \"Answer the question based on the context below.\\n\\n\"+\n",
        "    \"Context:\\n\"\n",
        ")\n",
        "\n",
        "prompt_end = (\n",
        "    f\"\\n\\nQuestion: {query}\\nAnswer:\"\n",
        ")\n",
        "\n",
        "prompt = (\n",
        "    prompt_start + \"\\n\\n---\\n\\n\".join(contexts) +\n",
        "    prompt_end\n",
        ")\n",
        "\n",
        "print(prompt)"
      ],
      "metadata": {
        "id": "Kkm_bkkku6VZ"
      },
      "execution_count": null,
      "outputs": []
    },
    {
      "cell_type": "markdown",
      "source": [
        "### Get the Summary"
      ],
      "metadata": {
        "id": "tGm8-ecGvH6B"
      }
    },
    {
      "cell_type": "code",
      "source": [
        "res = openai_client.completions.create(\n",
        "    model=\"gpt-3.5-turbo-instruct\",\n",
        "    prompt=prompt,\n",
        "    temperature=0,\n",
        "    max_tokens=636,\n",
        "    top_p=1,\n",
        "    frequency_penalty=0,\n",
        "    presence_penalty=0,\n",
        "    stop=None\n",
        ")\n",
        "print('-' * 80)\n",
        "print(res.choices[0].text)"
      ],
      "metadata": {
        "id": "pOlCAfUvvJl3"
      },
      "execution_count": null,
      "outputs": []
    }
  ]
}